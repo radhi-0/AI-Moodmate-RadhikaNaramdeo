{
 "cells": [
  {
   "cell_type": "code",
   "execution_count": 11,
   "id": "0fe059ef",
   "metadata": {},
   "outputs": [
    {
     "name": "stdout",
     "output_type": "stream",
     "text": [
      "Training data sample:\n",
      "                                   image_path emotion\n",
      "0  data/raw/train\\angry\\Training_10118481.jpg   angry\n",
      "1  data/raw/train\\angry\\Training_10120469.jpg   angry\n",
      "2  data/raw/train\\angry\\Training_10131352.jpg   angry\n",
      "3  data/raw/train\\angry\\Training_10161559.jpg   angry\n",
      "4   data/raw/train\\angry\\Training_1021836.jpg   angry\n",
      "\n",
      "Testing data sample:\n",
      "                                     image_path emotion\n",
      "0  data/raw/test\\angry\\PrivateTest_10131363.jpg   angry\n",
      "1  data/raw/test\\angry\\PrivateTest_10304478.jpg   angry\n",
      "2   data/raw/test\\angry\\PrivateTest_1054527.jpg   angry\n",
      "3  data/raw/test\\angry\\PrivateTest_10590091.jpg   angry\n",
      "4   data/raw/test\\angry\\PrivateTest_1109992.jpg   angry\n"
     ]
    }
   ],
   "source": [
    "import os\n",
    "import pandas as pd\n",
    "\n",
    "def load_image_paths(data_dir):\n",
    "    data = []\n",
    "    for emotion_folder in os.listdir(data_dir):\n",
    "        emotion_path = os.path.join(data_dir, emotion_folder)\n",
    "        if os.path.isdir(emotion_path):\n",
    "            for img_file in os.listdir(emotion_path):\n",
    "                if img_file.endswith(('.jpg', '.png')):\n",
    "                    img_path = os.path.join(emotion_path, img_file)\n",
    "                    data.append({'image_path': img_path, 'emotion': emotion_folder})\n",
    "    return pd.DataFrame(data)\n",
    "\n",
    "train_dir = 'data/raw/train'\n",
    "test_dir = 'data/raw/test'\n",
    "\n",
    "train_df = load_image_paths(train_dir)\n",
    "test_df = load_image_paths(test_dir)\n",
    "\n",
    "print(\"Training data sample:\")\n",
    "print(train_df.head())\n",
    "\n",
    "print(\"\\nTesting data sample:\")\n",
    "print(test_df.head())\n"
   ]
  },
  {
   "cell_type": "code",
   "execution_count": 12,
   "id": "72230f95",
   "metadata": {},
   "outputs": [
    {
     "name": "stdout",
     "output_type": "stream",
     "text": [
      "Folders in data/raw:\n",
      "['test', 'train']\n"
     ]
    }
   ],
   "source": [
    "import os\n",
    "\n",
    "print(\"Folders in data/raw:\")\n",
    "print(os.listdir('data/raw'))\n",
    "\n"
   ]
  }
 ],
 "metadata": {
  "kernelspec": {
   "display_name": "base",
   "language": "python",
   "name": "python3"
  },
  "language_info": {
   "codemirror_mode": {
    "name": "ipython",
    "version": 3
   },
   "file_extension": ".py",
   "mimetype": "text/x-python",
   "name": "python",
   "nbconvert_exporter": "python",
   "pygments_lexer": "ipython3",
   "version": "3.11.7"
  }
 },
 "nbformat": 4,
 "nbformat_minor": 5
}
